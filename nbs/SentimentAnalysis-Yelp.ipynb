{
 "cells": [
  {
   "cell_type": "markdown",
   "id": "fdfed129",
   "metadata": {},
   "source": [
    "## Text Classification"
   ]
  },
  {
   "cell_type": "code",
   "execution_count": 1,
   "id": "4d3a90d3",
   "metadata": {},
   "outputs": [],
   "source": [
    "import os\n",
    "import spacy\n",
    "import pandas as pd\n",
    "\n",
    "import torch\n",
    "import torch.nn as nn\n",
    "import torch.optim as optim\n",
    "from torchtext.legacy import data\n",
    "\n",
    "from sklearn.model_selection import train_test_split\n",
    "from sklearn.metrics import classification_report\n",
    "\n",
    "from utils import *\n",
    "from config import RCNNConfig\n",
    "from rcnn import RCNN\n",
    "from cnn import AttentionCNN\n",
    "from training import train_model, evaluate\n",
    "\n",
    "import warnings\n",
    "warnings.filterwarnings('ignore')"
   ]
  },
  {
   "cell_type": "markdown",
   "id": "012b6335",
   "metadata": {},
   "source": [
    "### Read data from CSV file"
   ]
  },
  {
   "cell_type": "code",
   "execution_count": 2,
   "id": "300bb9f9",
   "metadata": {},
   "outputs": [],
   "source": [
    "data_df = pd.read_csv(\"../data/yelp_ratings.csv\")"
   ]
  },
  {
   "cell_type": "code",
   "execution_count": 3,
   "id": "cd500805",
   "metadata": {
    "scrolled": true
   },
   "outputs": [
    {
     "data": {
      "text/html": [
       "<div>\n",
       "<style scoped>\n",
       "    .dataframe tbody tr th:only-of-type {\n",
       "        vertical-align: middle;\n",
       "    }\n",
       "\n",
       "    .dataframe tbody tr th {\n",
       "        vertical-align: top;\n",
       "    }\n",
       "\n",
       "    .dataframe thead th {\n",
       "        text-align: right;\n",
       "    }\n",
       "</style>\n",
       "<table border=\"1\" class=\"dataframe\">\n",
       "  <thead>\n",
       "    <tr style=\"text-align: right;\">\n",
       "      <th></th>\n",
       "      <th>text</th>\n",
       "      <th>stars</th>\n",
       "      <th>sentiment</th>\n",
       "    </tr>\n",
       "  </thead>\n",
       "  <tbody>\n",
       "    <tr>\n",
       "      <th>0</th>\n",
       "      <td>Total bill for this horrible service? Over $8G...</td>\n",
       "      <td>1.0</td>\n",
       "      <td>0</td>\n",
       "    </tr>\n",
       "    <tr>\n",
       "      <th>1</th>\n",
       "      <td>I *adore* Travis at the Hard Rock's new Kelly ...</td>\n",
       "      <td>5.0</td>\n",
       "      <td>1</td>\n",
       "    </tr>\n",
       "    <tr>\n",
       "      <th>2</th>\n",
       "      <td>I have to say that this office really has it t...</td>\n",
       "      <td>5.0</td>\n",
       "      <td>1</td>\n",
       "    </tr>\n",
       "    <tr>\n",
       "      <th>3</th>\n",
       "      <td>Went in for a lunch. Steak sandwich was delici...</td>\n",
       "      <td>5.0</td>\n",
       "      <td>1</td>\n",
       "    </tr>\n",
       "    <tr>\n",
       "      <th>4</th>\n",
       "      <td>Today was my second out of three sessions I ha...</td>\n",
       "      <td>1.0</td>\n",
       "      <td>0</td>\n",
       "    </tr>\n",
       "    <tr>\n",
       "      <th>...</th>\n",
       "      <td>...</td>\n",
       "      <td>...</td>\n",
       "      <td>...</td>\n",
       "    </tr>\n",
       "    <tr>\n",
       "      <th>44525</th>\n",
       "      <td>Petit café sympa, peu de place assise. Bonne b...</td>\n",
       "      <td>4.0</td>\n",
       "      <td>1</td>\n",
       "    </tr>\n",
       "    <tr>\n",
       "      <th>44526</th>\n",
       "      <td>Absolutely delicious! The food was full of ama...</td>\n",
       "      <td>5.0</td>\n",
       "      <td>1</td>\n",
       "    </tr>\n",
       "    <tr>\n",
       "      <th>44527</th>\n",
       "      <td>I love this place!  They always have the cutes...</td>\n",
       "      <td>4.0</td>\n",
       "      <td>1</td>\n",
       "    </tr>\n",
       "    <tr>\n",
       "      <th>44528</th>\n",
       "      <td>i would understand a 2 hour wait for food if i...</td>\n",
       "      <td>2.0</td>\n",
       "      <td>0</td>\n",
       "    </tr>\n",
       "    <tr>\n",
       "      <th>44529</th>\n",
       "      <td>Best place to be for sports events. Service an...</td>\n",
       "      <td>5.0</td>\n",
       "      <td>1</td>\n",
       "    </tr>\n",
       "  </tbody>\n",
       "</table>\n",
       "<p>44530 rows × 3 columns</p>\n",
       "</div>"
      ],
      "text/plain": [
       "                                                    text  stars  sentiment\n",
       "0      Total bill for this horrible service? Over $8G...    1.0          0\n",
       "1      I *adore* Travis at the Hard Rock's new Kelly ...    5.0          1\n",
       "2      I have to say that this office really has it t...    5.0          1\n",
       "3      Went in for a lunch. Steak sandwich was delici...    5.0          1\n",
       "4      Today was my second out of three sessions I ha...    1.0          0\n",
       "...                                                  ...    ...        ...\n",
       "44525  Petit café sympa, peu de place assise. Bonne b...    4.0          1\n",
       "44526  Absolutely delicious! The food was full of ama...    5.0          1\n",
       "44527  I love this place!  They always have the cutes...    4.0          1\n",
       "44528  i would understand a 2 hour wait for food if i...    2.0          0\n",
       "44529  Best place to be for sports events. Service an...    5.0          1\n",
       "\n",
       "[44530 rows x 3 columns]"
      ]
     },
     "execution_count": 3,
     "metadata": {},
     "output_type": "execute_result"
    }
   ],
   "source": [
    "data_df"
   ]
  },
  {
   "cell_type": "code",
   "execution_count": 4,
   "id": "72fae96e",
   "metadata": {},
   "outputs": [
    {
     "data": {
      "text/html": [
       "<div>\n",
       "<style scoped>\n",
       "    .dataframe tbody tr th:only-of-type {\n",
       "        vertical-align: middle;\n",
       "    }\n",
       "\n",
       "    .dataframe tbody tr th {\n",
       "        vertical-align: top;\n",
       "    }\n",
       "\n",
       "    .dataframe thead th {\n",
       "        text-align: right;\n",
       "    }\n",
       "</style>\n",
       "<table border=\"1\" class=\"dataframe\">\n",
       "  <thead>\n",
       "    <tr style=\"text-align: right;\">\n",
       "      <th></th>\n",
       "      <th>text</th>\n",
       "      <th>label</th>\n",
       "    </tr>\n",
       "  </thead>\n",
       "  <tbody>\n",
       "    <tr>\n",
       "      <th>0</th>\n",
       "      <td>Total bill for this horrible service? Over $8G...</td>\n",
       "      <td>0</td>\n",
       "    </tr>\n",
       "    <tr>\n",
       "      <th>1</th>\n",
       "      <td>I *adore* Travis at the Hard Rock's new Kelly ...</td>\n",
       "      <td>1</td>\n",
       "    </tr>\n",
       "    <tr>\n",
       "      <th>2</th>\n",
       "      <td>I have to say that this office really has it t...</td>\n",
       "      <td>1</td>\n",
       "    </tr>\n",
       "    <tr>\n",
       "      <th>3</th>\n",
       "      <td>Went in for a lunch. Steak sandwich was delici...</td>\n",
       "      <td>1</td>\n",
       "    </tr>\n",
       "    <tr>\n",
       "      <th>4</th>\n",
       "      <td>Today was my second out of three sessions I ha...</td>\n",
       "      <td>0</td>\n",
       "    </tr>\n",
       "    <tr>\n",
       "      <th>...</th>\n",
       "      <td>...</td>\n",
       "      <td>...</td>\n",
       "    </tr>\n",
       "    <tr>\n",
       "      <th>44525</th>\n",
       "      <td>Petit café sympa, peu de place assise. Bonne b...</td>\n",
       "      <td>1</td>\n",
       "    </tr>\n",
       "    <tr>\n",
       "      <th>44526</th>\n",
       "      <td>Absolutely delicious! The food was full of ama...</td>\n",
       "      <td>1</td>\n",
       "    </tr>\n",
       "    <tr>\n",
       "      <th>44527</th>\n",
       "      <td>I love this place!  They always have the cutes...</td>\n",
       "      <td>1</td>\n",
       "    </tr>\n",
       "    <tr>\n",
       "      <th>44528</th>\n",
       "      <td>i would understand a 2 hour wait for food if i...</td>\n",
       "      <td>0</td>\n",
       "    </tr>\n",
       "    <tr>\n",
       "      <th>44529</th>\n",
       "      <td>Best place to be for sports events. Service an...</td>\n",
       "      <td>1</td>\n",
       "    </tr>\n",
       "  </tbody>\n",
       "</table>\n",
       "<p>44530 rows × 2 columns</p>\n",
       "</div>"
      ],
      "text/plain": [
       "                                                    text  label\n",
       "0      Total bill for this horrible service? Over $8G...      0\n",
       "1      I *adore* Travis at the Hard Rock's new Kelly ...      1\n",
       "2      I have to say that this office really has it t...      1\n",
       "3      Went in for a lunch. Steak sandwich was delici...      1\n",
       "4      Today was my second out of three sessions I ha...      0\n",
       "...                                                  ...    ...\n",
       "44525  Petit café sympa, peu de place assise. Bonne b...      1\n",
       "44526  Absolutely delicious! The food was full of ama...      1\n",
       "44527  I love this place!  They always have the cutes...      1\n",
       "44528  i would understand a 2 hour wait for food if i...      0\n",
       "44529  Best place to be for sports events. Service an...      1\n",
       "\n",
       "[44530 rows x 2 columns]"
      ]
     },
     "execution_count": 4,
     "metadata": {},
     "output_type": "execute_result"
    }
   ],
   "source": [
    "data_df.drop(columns={'stars'}, inplace=True)\n",
    "data_df.rename(columns={'sentiment': 'label'}, inplace=True)\n",
    "data_df"
   ]
  },
  {
   "cell_type": "code",
   "execution_count": 5,
   "id": "60f28ee1",
   "metadata": {},
   "outputs": [
    {
     "name": "stdout",
     "output_type": "stream",
     "text": [
      "11199\n",
      "33331\n"
     ]
    }
   ],
   "source": [
    "print(len(data_df[data_df['label'] == 0]))\n",
    "print(len(data_df[data_df['label'] == 1]))"
   ]
  },
  {
   "cell_type": "markdown",
   "id": "215f9a20",
   "metadata": {},
   "source": [
    "### Split data to train and validation"
   ]
  },
  {
   "cell_type": "code",
   "execution_count": 6,
   "id": "18030f81",
   "metadata": {},
   "outputs": [],
   "source": [
    "train_df, valid_df = train_test_split(data_df, test_size=0.1, random_state=1)"
   ]
  },
  {
   "cell_type": "code",
   "execution_count": 7,
   "id": "c1f3be0d",
   "metadata": {},
   "outputs": [
    {
     "name": "stdout",
     "output_type": "stream",
     "text": [
      "40077 4453\n"
     ]
    }
   ],
   "source": [
    "print(len(train_df), len(valid_df))"
   ]
  },
  {
   "cell_type": "code",
   "execution_count": 8,
   "id": "ff9df05d",
   "metadata": {},
   "outputs": [],
   "source": [
    "train_df.to_csv('../data/yelp-train.csv', index=False)\n",
    "valid_df.to_csv('../data/yelp-valid.csv', index=False)"
   ]
  },
  {
   "cell_type": "code",
   "execution_count": 9,
   "id": "98c2be2a",
   "metadata": {},
   "outputs": [
    {
     "data": {
      "text/html": [
       "<div>\n",
       "<style scoped>\n",
       "    .dataframe tbody tr th:only-of-type {\n",
       "        vertical-align: middle;\n",
       "    }\n",
       "\n",
       "    .dataframe tbody tr th {\n",
       "        vertical-align: top;\n",
       "    }\n",
       "\n",
       "    .dataframe thead th {\n",
       "        text-align: right;\n",
       "    }\n",
       "</style>\n",
       "<table border=\"1\" class=\"dataframe\">\n",
       "  <thead>\n",
       "    <tr style=\"text-align: right;\">\n",
       "      <th></th>\n",
       "      <th>text</th>\n",
       "      <th>label</th>\n",
       "    </tr>\n",
       "  </thead>\n",
       "  <tbody>\n",
       "    <tr>\n",
       "      <th>0</th>\n",
       "      <td>I ordered nachos, soft serve ice cream, and a ...</td>\n",
       "      <td>0</td>\n",
       "    </tr>\n",
       "    <tr>\n",
       "      <th>1</th>\n",
       "      <td>The restaurant with the food truck theme was v...</td>\n",
       "      <td>1</td>\n",
       "    </tr>\n",
       "    <tr>\n",
       "      <th>2</th>\n",
       "      <td>Theft is a problem at the Venetian. Risk Manag...</td>\n",
       "      <td>0</td>\n",
       "    </tr>\n",
       "    <tr>\n",
       "      <th>3</th>\n",
       "      <td>This the slowest fast food place ever. They ar...</td>\n",
       "      <td>0</td>\n",
       "    </tr>\n",
       "    <tr>\n",
       "      <th>4</th>\n",
       "      <td>Christina... f-en amazing.  The best service e...</td>\n",
       "      <td>1</td>\n",
       "    </tr>\n",
       "    <tr>\n",
       "      <th>...</th>\n",
       "      <td>...</td>\n",
       "      <td>...</td>\n",
       "    </tr>\n",
       "    <tr>\n",
       "      <th>4448</th>\n",
       "      <td>Having read the reviews, I was leery renting f...</td>\n",
       "      <td>1</td>\n",
       "    </tr>\n",
       "    <tr>\n",
       "      <th>4449</th>\n",
       "      <td>We started at Dynamics two years ago &amp; we have...</td>\n",
       "      <td>1</td>\n",
       "    </tr>\n",
       "    <tr>\n",
       "      <th>4450</th>\n",
       "      <td>Outrageous. This is the best show i have ever ...</td>\n",
       "      <td>1</td>\n",
       "    </tr>\n",
       "    <tr>\n",
       "      <th>4451</th>\n",
       "      <td>They just added few items to the menu, tonight...</td>\n",
       "      <td>1</td>\n",
       "    </tr>\n",
       "    <tr>\n",
       "      <th>4452</th>\n",
       "      <td>Fantastic kabobs and pomegranate wine! I loved...</td>\n",
       "      <td>1</td>\n",
       "    </tr>\n",
       "  </tbody>\n",
       "</table>\n",
       "<p>4453 rows × 2 columns</p>\n",
       "</div>"
      ],
      "text/plain": [
       "                                                   text  label\n",
       "0     I ordered nachos, soft serve ice cream, and a ...      0\n",
       "1     The restaurant with the food truck theme was v...      1\n",
       "2     Theft is a problem at the Venetian. Risk Manag...      0\n",
       "3     This the slowest fast food place ever. They ar...      0\n",
       "4     Christina... f-en amazing.  The best service e...      1\n",
       "...                                                 ...    ...\n",
       "4448  Having read the reviews, I was leery renting f...      1\n",
       "4449  We started at Dynamics two years ago & we have...      1\n",
       "4450  Outrageous. This is the best show i have ever ...      1\n",
       "4451  They just added few items to the menu, tonight...      1\n",
       "4452  Fantastic kabobs and pomegranate wine! I loved...      1\n",
       "\n",
       "[4453 rows x 2 columns]"
      ]
     },
     "execution_count": 9,
     "metadata": {},
     "output_type": "execute_result"
    }
   ],
   "source": [
    "train_df = pd.read_csv('../data/yelp-train.csv')\n",
    "valid_df = pd.read_csv('../data/yelp-valid.csv')\n",
    "\n",
    "valid_df"
   ]
  },
  {
   "cell_type": "markdown",
   "id": "b105725e",
   "metadata": {},
   "source": [
    "### Using torchtext\n",
    "1. Define fields\n",
    "2. Define datasets (train, validation, test)\n",
    "3. Build vocabulary for each field\n",
    "3. Define iterators for each dataset"
   ]
  },
  {
   "cell_type": "code",
   "execution_count": 10,
   "id": "b994d6a2",
   "metadata": {},
   "outputs": [],
   "source": [
    "spacy_en = spacy.blank('en')\n",
    "def tokenize(text, min_length=5):\n",
    "    text = text.lower().strip();\n",
    "    text = ' '.join(text.split())\n",
    "    tokens = [t.text for t in spacy_en.tokenizer(text)]\n",
    "    \n",
    "    if len(tokens) < min_length:\n",
    "        tokens += ['<pad>' for i in range(min_length - len(tokens))]\n",
    "    return tokens"
   ]
  },
  {
   "cell_type": "code",
   "execution_count": 11,
   "id": "4332c645",
   "metadata": {},
   "outputs": [],
   "source": [
    "TEXT = data.Field(tokenize=tokenize)\n",
    "\n",
    "LABEL = data.LabelField()"
   ]
  },
  {
   "cell_type": "code",
   "execution_count": 12,
   "id": "795ef54f",
   "metadata": {},
   "outputs": [
    {
     "name": "stdout",
     "output_type": "stream",
     "text": [
      "{'text': ['cute', 'coffee', 'place', 'with', 'lots', 'of', 'selection', 'from', 'coffee', 'to', 'non', 'coffee', 'drink', 'and', 'waffles', 'even', 'gelato', 'which', 'all', 'is', 'amazing', '!', '!', '!', '!', 'i', 'had', 'the', 'sweet', 'box', 'latte', ',', 'it', 'is', \"n't\", 'sweet', 'but', 'the', 'flavor', 'of', 'coffee', 'is', 'good', 'and', 'will', 'sure', 'wakes', 'you', 'up', '!', '!', '!'], 'label': '1'}\n",
      "{'text': ['i', 'ordered', 'nachos', ',', 'soft', 'serve', 'ice', 'cream', ',', 'and', 'a', 'salad', '.', 'probably', 'the', 'easiest', 'things', 'to', 'prepare', '.', 'it', 'took', 'a', 'half', 'hour', 'and', ',', 'if', 'i', 'had', \"n't\", 'looked', 'in', 'the', 'bag', '-', 'i', 'ordered', 'everything', 'to', 'go', '-', 'i', 'would', \"n't\", 'have', 'realized', 'that', 'they', 'forgot', 'an', 'item', '.', 'terrible', 'service', 'and', 'they', 'did', \"n't\", 'care', 'on', 'bit', '.', 'i', 'will', 'never', 'go', 'back', '!'], 'label': '0'}\n"
     ]
    }
   ],
   "source": [
    "train_data, valid_data = data.TabularDataset.splits(\n",
    "    path=\"../data/\",\n",
    "    train='yelp-train.csv',\n",
    "    validation='yelp-valid.csv',\n",
    "    format='CSV',\n",
    "    skip_header=True,\n",
    "    fields=[('text', TEXT), ('label', LABEL)]\n",
    ")\n",
    "\n",
    "print(vars(train_data[0]))\n",
    "print(vars(valid_data[0]))"
   ]
  },
  {
   "cell_type": "code",
   "execution_count": 13,
   "id": "ba5a1b41",
   "metadata": {},
   "outputs": [
    {
     "name": "stdout",
     "output_type": "stream",
     "text": [
      "defaultdict(None, {'1': 0, '0': 1})\n"
     ]
    }
   ],
   "source": [
    "# Build vocabulary for texts\n",
    "vocab_size = 20_000\n",
    "\n",
    "TEXT.build_vocab(train_data,\n",
    "                 max_size=vocab_size)\n",
    "\n",
    "# Build vocabulary for labels\n",
    "LABEL.build_vocab(train_data)\n",
    "print(LABEL.vocab.stoi)"
   ]
  },
  {
   "cell_type": "code",
   "execution_count": 14,
   "id": "b9338ded",
   "metadata": {},
   "outputs": [],
   "source": [
    "batch_size = 64\n",
    "device = torch.device('cuda' if torch.cuda.is_available() else 'cpu')\n",
    "\n",
    "train_iterator = data.BucketIterator(\n",
    "    train_data, \n",
    "    batch_size, \n",
    "    sort_key=lambda x: len(x.text), \n",
    "    device=device)\n",
    "\n",
    "valid_iterator = data.BucketIterator(\n",
    "    valid_data, \n",
    "    batch_size, \n",
    "    sort_key=lambda x: len(x.text), \n",
    "    device=device,\n",
    "    train=False,\n",
    "    shuffle=False)"
   ]
  },
  {
   "cell_type": "markdown",
   "id": "6552b001",
   "metadata": {},
   "source": [
    "## Build Model"
   ]
  },
  {
   "cell_type": "code",
   "execution_count": null,
   "id": "ee4476ae",
   "metadata": {},
   "outputs": [],
   "source": [
    "# INPUT_DIM = len(TEXT.vocab)\n",
    "# OUTPUT_DIM = len(LABEL.vocab)\n",
    "# DROPOUT = 0.5\n",
    "\n",
    "\n",
    "# model = AttentionCNN(INPUT_DIM, \n",
    "#                      embedding_dim=100, \n",
    "#                      n_filters=150, \n",
    "#                      filter_sizes=[2,3,4], \n",
    "#                      output_dim=OUTPUT_DIM, \n",
    "#                      dropout=DROPOUT)\n",
    "\n",
    "# model = model.to(device)"
   ]
  },
  {
   "cell_type": "code",
   "execution_count": 15,
   "id": "0f00438f",
   "metadata": {},
   "outputs": [],
   "source": [
    "config = RCNNConfig()\n",
    "\n",
    "model = RCNN(config, vocab_size=len(TEXT.vocab))\n",
    "model = model.to(device)\n",
    "\n",
    "\n",
    "optimizer = optim.Adam(model.parameters())\n",
    "scheduler = optim.lr_scheduler.StepLR(optimizer, step_size=1, gamma=0.5)\n",
    "criterion = nn.CrossEntropyLoss().to(device)"
   ]
  },
  {
   "cell_type": "markdown",
   "id": "d61b89db",
   "metadata": {},
   "source": [
    "## Train the model"
   ]
  },
  {
   "cell_type": "code",
   "execution_count": 16,
   "id": "01c843ff",
   "metadata": {},
   "outputs": [],
   "source": [
    "model_dir = 'models'\n",
    "if not os.path.exists(model_dir):\n",
    "    os.mkdir(model_dir)\n",
    "    \n",
    "fname = f'{model_dir}/rcnn-yelp.pt'  # save the trained model"
   ]
  },
  {
   "cell_type": "code",
   "execution_count": 17,
   "id": "de57b25e",
   "metadata": {},
   "outputs": [
    {
     "data": {
      "text/html": [
       "<div>\n",
       "<style scoped>\n",
       "    .dataframe tbody tr th:only-of-type {\n",
       "        vertical-align: middle;\n",
       "    }\n",
       "\n",
       "    .dataframe tbody tr th {\n",
       "        vertical-align: top;\n",
       "    }\n",
       "\n",
       "    .dataframe thead th {\n",
       "        text-align: right;\n",
       "    }\n",
       "</style>\n",
       "<table border=\"1\" class=\"dataframe\">\n",
       "  <thead>\n",
       "    <tr style=\"text-align: right;\">\n",
       "      <th></th>\n",
       "      <th>Epoch</th>\n",
       "      <th>Train Loss</th>\n",
       "      <th>Valid Loss</th>\n",
       "      <th>Train Acc</th>\n",
       "      <th>Valid Acc</th>\n",
       "      <th>Time</th>\n",
       "    </tr>\n",
       "  </thead>\n",
       "  <tbody>\n",
       "    <tr>\n",
       "      <th>0</th>\n",
       "      <td>1</td>\n",
       "      <td>0.356</td>\n",
       "      <td>0.179</td>\n",
       "      <td>84.29</td>\n",
       "      <td>92.70</td>\n",
       "      <td>2m 28s</td>\n",
       "    </tr>\n",
       "    <tr>\n",
       "      <th>1</th>\n",
       "      <td>2</td>\n",
       "      <td>0.169</td>\n",
       "      <td>0.137</td>\n",
       "      <td>93.69</td>\n",
       "      <td>94.82</td>\n",
       "      <td>2m 31s</td>\n",
       "    </tr>\n",
       "    <tr>\n",
       "      <th>2</th>\n",
       "      <td>3</td>\n",
       "      <td>0.125</td>\n",
       "      <td>0.137</td>\n",
       "      <td>95.63</td>\n",
       "      <td>94.66</td>\n",
       "      <td>2m 30s</td>\n",
       "    </tr>\n",
       "    <tr>\n",
       "      <th>3</th>\n",
       "      <td>4</td>\n",
       "      <td>0.110</td>\n",
       "      <td>0.129</td>\n",
       "      <td>96.22</td>\n",
       "      <td>95.11</td>\n",
       "      <td>2m 31s</td>\n",
       "    </tr>\n",
       "    <tr>\n",
       "      <th>4</th>\n",
       "      <td>5</td>\n",
       "      <td>0.099</td>\n",
       "      <td>0.136</td>\n",
       "      <td>96.55</td>\n",
       "      <td>95.06</td>\n",
       "      <td>2m 34s</td>\n",
       "    </tr>\n",
       "  </tbody>\n",
       "</table>\n",
       "</div>"
      ],
      "text/plain": [
       "  Epoch Train Loss Valid Loss Train Acc Valid Acc    Time\n",
       "0     1      0.356      0.179     84.29     92.70  2m 28s\n",
       "1     2      0.169      0.137     93.69     94.82  2m 31s\n",
       "2     3      0.125      0.137     95.63     94.66  2m 30s\n",
       "3     4      0.110      0.129     96.22     95.11  2m 31s\n",
       "4     5      0.099      0.136     96.55     95.06  2m 34s"
      ]
     },
     "metadata": {},
     "output_type": "display_data"
    }
   ],
   "source": [
    "# train the model\n",
    "train_model(model, device, \n",
    "            train_iterator, valid_iterator, \n",
    "            optimizer, criterion, scheduler, \n",
    "            n_epochs=5, \n",
    "            fname=fname)"
   ]
  },
  {
   "cell_type": "code",
   "execution_count": 18,
   "id": "904c2d4a",
   "metadata": {},
   "outputs": [
    {
     "name": "stderr",
     "output_type": "stream",
     "text": [
      "Validation: | Loss=0.2544 | Acc=0.9189 |: 100%|██████████| 70/70 [00:01<00:00, 53.10it/s] "
     ]
    },
    {
     "name": "stdout",
     "output_type": "stream",
     "text": [
      "Validation loss = 0.1288 | validation acc = 95.11%\n"
     ]
    },
    {
     "name": "stderr",
     "output_type": "stream",
     "text": [
      "\n"
     ]
    }
   ],
   "source": [
    "loss, acc = evaluate(model, valid_iterator, criterion)\n",
    "print(f'Validation loss = {loss:.4f} | validation acc = {acc*100:.2f}%')"
   ]
  },
  {
   "cell_type": "markdown",
   "id": "c5d48b37",
   "metadata": {},
   "source": [
    "### Testing model on user inputs"
   ]
  },
  {
   "cell_type": "code",
   "execution_count": 19,
   "id": "c802ff1a",
   "metadata": {},
   "outputs": [],
   "source": [
    "nlp = spacy.load(\"en_core_web_sm\")\n",
    "\n",
    "\n",
    "def predict(model, sentence, device=device):\n",
    "    model.eval()\n",
    "    \n",
    "    # tokenize\n",
    "    tokens = [t.text for t in nlp(sentence)]\n",
    "    \n",
    "    # numericalize\n",
    "    indexed = [TEXT.vocab.stoi[t] for t in tokens]\n",
    "    \n",
    "    # convert to torch tensor and add batch dimension\n",
    "    indexed = torch.LongTensor(indexed).unsqueeze(1).to(device)\n",
    "    \n",
    "    # predict the label\n",
    "    prediction = model(indexed)\n",
    "    \n",
    "    return LABEL.vocab.itos[prediction.argmax(1).item()]\n",
    "    "
   ]
  },
  {
   "cell_type": "code",
   "execution_count": 20,
   "id": "9495e7c3",
   "metadata": {},
   "outputs": [
    {
     "name": "stdout",
     "output_type": "stream",
     "text": [
      "1       \u001b[41mThe food was really awesome!\u001b[m\n",
      "0       \u001b[43mThe food was bad and the place was very very dirty and dark!\u001b[m\n"
     ]
    }
   ],
   "source": [
    "docs = [\"The food was really awesome!\",\n",
    "        \"The food was bad and the place was very very dirty and dark!\"]\n",
    "\n",
    "\n",
    "for doc in docs:\n",
    "    label = predict(model, doc)\n",
    "    display_classification_result(doc, label, LABEL.vocab.stoi[label])"
   ]
  },
  {
   "cell_type": "markdown",
   "id": "ca7317b6",
   "metadata": {},
   "source": [
    "### Confusion matrix"
   ]
  },
  {
   "cell_type": "code",
   "execution_count": 21,
   "id": "c72f91be",
   "metadata": {},
   "outputs": [
    {
     "data": {
      "image/png": "[encoded data removed]",
      "text/plain": [
       "<Figure size 720x504 with 2 Axes>"
      ]
     },
     "metadata": {
      "needs_background": "light"
     },
     "output_type": "display_data"
    }
   ],
   "source": [
    "cm, y_true, y_pred = compute_confusion_matrix(model, valid_iterator)\n",
    "plot_confusion_matrix(cm, LABEL.vocab.stoi)"
   ]
  },
  {
   "cell_type": "code",
   "execution_count": 22,
   "id": "91e41ea3",
   "metadata": {},
   "outputs": [
    {
     "name": "stdout",
     "output_type": "stream",
     "text": [
      "              precision    recall  f1-score   support\n",
      "\n",
      "           1       0.97      0.96      0.97      3327\n",
      "           0       0.89      0.92      0.90      1126\n",
      "\n",
      "    accuracy                           0.95      4453\n",
      "   macro avg       0.93      0.94      0.94      4453\n",
      "weighted avg       0.95      0.95      0.95      4453\n",
      "\n"
     ]
    }
   ],
   "source": [
    "print(classification_report(y_true, y_pred, target_names=LABEL.vocab.stoi.keys()))"
   ]
  }
 ],
 "metadata": {
  "interpreter": {
   "hash": "bb146c5d9fb2de7bb24b6c8c0d0cf94a96a306053df0ca0e841e97387004e95e"
  },
  "kernelspec": {
   "display_name": "Python 3",
   "language": "python",
   "name": "python3"
  },
  "language_info": {
   "codemirror_mode": {
    "name": "ipython",
    "version": 3
   },
   "file_extension": ".py",
   "mimetype": "text/x-python",
   "name": "python",
   "nbconvert_exporter": "python",
   "pygments_lexer": "ipython3",
   "version": "3.6.10"
  }
 },
 "nbformat": 4,
 "nbformat_minor": 5
}
