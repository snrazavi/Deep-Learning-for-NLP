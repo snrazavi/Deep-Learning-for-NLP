{
 "cells": [
  {
   "cell_type": "markdown",
   "id": "9d9ce5dd",
   "metadata": {},
   "source": [
    "## Text Classification"
   ]
  },
  {
   "cell_type": "code",
   "execution_count": 1,
   "id": "625608db",
   "metadata": {},
   "outputs": [],
   "source": [
    "import os\n",
    "import spacy\n",
    "import pandas as pd\n",
    "\n",
    "import torch\n",
    "import torch.nn as nn\n",
    "import torch.optim as optim\n",
    "from torchtext.legacy import data\n",
    "\n",
    "from sklearn.model_selection import train_test_split\n",
    "from sklearn.metrics import classification_report\n",
    "\n",
    "from utils import *\n",
    "from config import RCNNConfig\n",
    "from rcnn import RCNN\n",
    "from training import train_model, evaluate\n",
    "\n",
    "import warnings\n",
    "warnings.filterwarnings('ignore')"
   ]
  },
  {
   "cell_type": "markdown",
   "id": "38d48320",
   "metadata": {},
   "source": [
    "### Read data from CSV file"
   ]
  },
  {
   "cell_type": "code",
   "execution_count": 2,
   "id": "1ce954bb",
   "metadata": {},
   "outputs": [],
   "source": [
    "data_df = pd.read_csv(\"../data/spam.csv\")"
   ]
  },
  {
   "cell_type": "code",
   "execution_count": 3,
   "id": "3eda3196",
   "metadata": {
    "scrolled": true
   },
   "outputs": [
    {
     "data": {
      "text/html": [
       "<div>\n",
       "<style scoped>\n",
       "    .dataframe tbody tr th:only-of-type {\n",
       "        vertical-align: middle;\n",
       "    }\n",
       "\n",
       "    .dataframe tbody tr th {\n",
       "        vertical-align: top;\n",
       "    }\n",
       "\n",
       "    .dataframe thead th {\n",
       "        text-align: right;\n",
       "    }\n",
       "</style>\n",
       "<table border=\"1\" class=\"dataframe\">\n",
       "  <thead>\n",
       "    <tr style=\"text-align: right;\">\n",
       "      <th></th>\n",
       "      <th>label</th>\n",
       "      <th>text</th>\n",
       "    </tr>\n",
       "  </thead>\n",
       "  <tbody>\n",
       "    <tr>\n",
       "      <th>0</th>\n",
       "      <td>ham</td>\n",
       "      <td>Go until jurong point, crazy.. Available only ...</td>\n",
       "    </tr>\n",
       "    <tr>\n",
       "      <th>1</th>\n",
       "      <td>ham</td>\n",
       "      <td>Ok lar... Joking wif u oni...</td>\n",
       "    </tr>\n",
       "    <tr>\n",
       "      <th>2</th>\n",
       "      <td>spam</td>\n",
       "      <td>Free entry in 2 a wkly comp to win FA Cup fina...</td>\n",
       "    </tr>\n",
       "    <tr>\n",
       "      <th>3</th>\n",
       "      <td>ham</td>\n",
       "      <td>U dun say so early hor... U c already then say...</td>\n",
       "    </tr>\n",
       "    <tr>\n",
       "      <th>4</th>\n",
       "      <td>ham</td>\n",
       "      <td>Nah I don't think he goes to usf, he lives aro...</td>\n",
       "    </tr>\n",
       "    <tr>\n",
       "      <th>...</th>\n",
       "      <td>...</td>\n",
       "      <td>...</td>\n",
       "    </tr>\n",
       "    <tr>\n",
       "      <th>5567</th>\n",
       "      <td>spam</td>\n",
       "      <td>This is the 2nd time we have tried 2 contact u...</td>\n",
       "    </tr>\n",
       "    <tr>\n",
       "      <th>5568</th>\n",
       "      <td>ham</td>\n",
       "      <td>Will Ì_ b going to esplanade fr home?</td>\n",
       "    </tr>\n",
       "    <tr>\n",
       "      <th>5569</th>\n",
       "      <td>ham</td>\n",
       "      <td>Pity, * was in mood for that. So...any other s...</td>\n",
       "    </tr>\n",
       "    <tr>\n",
       "      <th>5570</th>\n",
       "      <td>ham</td>\n",
       "      <td>The guy did some bitching but I acted like i'd...</td>\n",
       "    </tr>\n",
       "    <tr>\n",
       "      <th>5571</th>\n",
       "      <td>ham</td>\n",
       "      <td>Rofl. Its true to its name</td>\n",
       "    </tr>\n",
       "  </tbody>\n",
       "</table>\n",
       "<p>5572 rows × 2 columns</p>\n",
       "</div>"
      ],
      "text/plain": [
       "     label                                               text\n",
       "0      ham  Go until jurong point, crazy.. Available only ...\n",
       "1      ham                      Ok lar... Joking wif u oni...\n",
       "2     spam  Free entry in 2 a wkly comp to win FA Cup fina...\n",
       "3      ham  U dun say so early hor... U c already then say...\n",
       "4      ham  Nah I don't think he goes to usf, he lives aro...\n",
       "...    ...                                                ...\n",
       "5567  spam  This is the 2nd time we have tried 2 contact u...\n",
       "5568   ham              Will Ì_ b going to esplanade fr home?\n",
       "5569   ham  Pity, * was in mood for that. So...any other s...\n",
       "5570   ham  The guy did some bitching but I acted like i'd...\n",
       "5571   ham                         Rofl. Its true to its name\n",
       "\n",
       "[5572 rows x 2 columns]"
      ]
     },
     "execution_count": 3,
     "metadata": {},
     "output_type": "execute_result"
    }
   ],
   "source": [
    "data_df"
   ]
  },
  {
   "cell_type": "code",
   "execution_count": 4,
   "id": "be0abd66",
   "metadata": {},
   "outputs": [
    {
     "name": "stdout",
     "output_type": "stream",
     "text": [
      "747\n",
      "4825\n"
     ]
    }
   ],
   "source": [
    "print(len(data_df[data_df['label'] == 'spam']))\n",
    "print(len(data_df[data_df['label'] == 'ham']))"
   ]
  },
  {
   "cell_type": "markdown",
   "id": "484ac054",
   "metadata": {},
   "source": [
    "### Split data to train and validation"
   ]
  },
  {
   "cell_type": "code",
   "execution_count": 5,
   "id": "c33530a6",
   "metadata": {},
   "outputs": [],
   "source": [
    "train_df, valid_df = train_test_split(data_df, test_size=0.1, random_state=1)"
   ]
  },
  {
   "cell_type": "code",
   "execution_count": 6,
   "id": "cfd4e210",
   "metadata": {},
   "outputs": [
    {
     "name": "stdout",
     "output_type": "stream",
     "text": [
      "5014 558\n"
     ]
    }
   ],
   "source": [
    "print(len(train_df), len(valid_df))"
   ]
  },
  {
   "cell_type": "code",
   "execution_count": 7,
   "id": "7c7fe648",
   "metadata": {},
   "outputs": [],
   "source": [
    "train_df.to_csv('../data/spam-train.csv', index=False)\n",
    "valid_df.to_csv('../data/spam-valid.csv', index=False)"
   ]
  },
  {
   "cell_type": "code",
   "execution_count": 8,
   "id": "c97caff2",
   "metadata": {},
   "outputs": [
    {
     "data": {
      "text/html": [
       "<div>\n",
       "<style scoped>\n",
       "    .dataframe tbody tr th:only-of-type {\n",
       "        vertical-align: middle;\n",
       "    }\n",
       "\n",
       "    .dataframe tbody tr th {\n",
       "        vertical-align: top;\n",
       "    }\n",
       "\n",
       "    .dataframe thead th {\n",
       "        text-align: right;\n",
       "    }\n",
       "</style>\n",
       "<table border=\"1\" class=\"dataframe\">\n",
       "  <thead>\n",
       "    <tr style=\"text-align: right;\">\n",
       "      <th></th>\n",
       "      <th>label</th>\n",
       "      <th>text</th>\n",
       "    </tr>\n",
       "  </thead>\n",
       "  <tbody>\n",
       "    <tr>\n",
       "      <th>0</th>\n",
       "      <td>ham</td>\n",
       "      <td>Convey my regards to him</td>\n",
       "    </tr>\n",
       "    <tr>\n",
       "      <th>1</th>\n",
       "      <td>ham</td>\n",
       "      <td>[‰Û_] anyway, many good evenings to u! s</td>\n",
       "    </tr>\n",
       "    <tr>\n",
       "      <th>2</th>\n",
       "      <td>ham</td>\n",
       "      <td>My sort code is  and acc no is . The bank is n...</td>\n",
       "    </tr>\n",
       "    <tr>\n",
       "      <th>3</th>\n",
       "      <td>ham</td>\n",
       "      <td>Sorry i din lock my keypad.</td>\n",
       "    </tr>\n",
       "    <tr>\n",
       "      <th>4</th>\n",
       "      <td>spam</td>\n",
       "      <td>Hi babe its Chloe, how r u? I was smashed on s...</td>\n",
       "    </tr>\n",
       "    <tr>\n",
       "      <th>...</th>\n",
       "      <td>...</td>\n",
       "      <td>...</td>\n",
       "    </tr>\n",
       "    <tr>\n",
       "      <th>553</th>\n",
       "      <td>ham</td>\n",
       "      <td>Tyler (getting an 8th) has to leave not long a...</td>\n",
       "    </tr>\n",
       "    <tr>\n",
       "      <th>554</th>\n",
       "      <td>ham</td>\n",
       "      <td>K. I will sent it again</td>\n",
       "    </tr>\n",
       "    <tr>\n",
       "      <th>555</th>\n",
       "      <td>ham</td>\n",
       "      <td>Sday only joined.so training we started today:)</td>\n",
       "    </tr>\n",
       "    <tr>\n",
       "      <th>556</th>\n",
       "      <td>spam</td>\n",
       "      <td>FreeMsg Hey there darling it's been 3 week's n...</td>\n",
       "    </tr>\n",
       "    <tr>\n",
       "      <th>557</th>\n",
       "      <td>ham</td>\n",
       "      <td>Hey...Great deal...Farm tour 9am to 5pm $95/pa...</td>\n",
       "    </tr>\n",
       "  </tbody>\n",
       "</table>\n",
       "<p>558 rows × 2 columns</p>\n",
       "</div>"
      ],
      "text/plain": [
       "    label                                               text\n",
       "0     ham                           Convey my regards to him\n",
       "1     ham           [‰Û_] anyway, many good evenings to u! s\n",
       "2     ham  My sort code is  and acc no is . The bank is n...\n",
       "3     ham                        Sorry i din lock my keypad.\n",
       "4    spam  Hi babe its Chloe, how r u? I was smashed on s...\n",
       "..    ...                                                ...\n",
       "553   ham  Tyler (getting an 8th) has to leave not long a...\n",
       "554   ham                            K. I will sent it again\n",
       "555   ham    Sday only joined.so training we started today:)\n",
       "556  spam  FreeMsg Hey there darling it's been 3 week's n...\n",
       "557   ham  Hey...Great deal...Farm tour 9am to 5pm $95/pa...\n",
       "\n",
       "[558 rows x 2 columns]"
      ]
     },
     "execution_count": 8,
     "metadata": {},
     "output_type": "execute_result"
    }
   ],
   "source": [
    "train_df = pd.read_csv('../data/spam-train.csv')\n",
    "valid_df = pd.read_csv('../data/spam-valid.csv')\n",
    "\n",
    "valid_df"
   ]
  },
  {
   "cell_type": "markdown",
   "id": "3ea09375",
   "metadata": {},
   "source": [
    "### Using torchtext\n",
    "1. Define fields\n",
    "2. Define datasets (train, validation, test)\n",
    "3. Build vocabulary for each field\n",
    "3. Define iterators for each dataset"
   ]
  },
  {
   "cell_type": "code",
   "execution_count": 9,
   "id": "5e052452",
   "metadata": {},
   "outputs": [],
   "source": [
    "TEXT = data.Field(tokenize='spacy', lower=True)\n",
    "\n",
    "LABEL = data.LabelField()"
   ]
  },
  {
   "cell_type": "code",
   "execution_count": 10,
   "id": "864b9eac",
   "metadata": {},
   "outputs": [
    {
     "name": "stdout",
     "output_type": "stream",
     "text": [
      "{'label': 'ham', 'text': ['gud', 'gud', '..', 'k', ',', 'chikku', 'tke', 'care', '..', 'sleep', 'well', 'gud', 'nyt']}\n",
      "{'label': 'ham', 'text': ['convey', 'my', 'regards', 'to', 'him']}\n"
     ]
    }
   ],
   "source": [
    "train_data, valid_data = data.TabularDataset.splits(\n",
    "    path=\"../data/\",\n",
    "    train='spam-train.csv',\n",
    "    validation='spam-valid.csv',\n",
    "    format='CSV',\n",
    "    skip_header=True,\n",
    "    fields=[('label', LABEL), ('text', TEXT)]\n",
    ")\n",
    "\n",
    "print(vars(train_data[0]))\n",
    "print(vars(valid_data[0]))"
   ]
  },
  {
   "cell_type": "code",
   "execution_count": 11,
   "id": "17d225fd",
   "metadata": {},
   "outputs": [
    {
     "name": "stdout",
     "output_type": "stream",
     "text": [
      "defaultdict(None, {'ham': 0, 'spam': 1})\n"
     ]
    }
   ],
   "source": [
    "# Build vocabulary for texts\n",
    "vocab_size = 20_000\n",
    "\n",
    "TEXT.build_vocab(train_data,\n",
    "                 max_size=vocab_size)\n",
    "\n",
    "# Build vocabulary for labels\n",
    "LABEL.build_vocab(train_data)\n",
    "print(LABEL.vocab.stoi)"
   ]
  },
  {
   "cell_type": "code",
   "execution_count": 12,
   "id": "d907cc51",
   "metadata": {},
   "outputs": [],
   "source": [
    "batch_size = 8\n",
    "device = torch.device('cuda' if torch.cuda.is_available() else 'cpu')\n",
    "\n",
    "train_iterator = data.BucketIterator(\n",
    "    train_data, \n",
    "    batch_size, \n",
    "    sort_key=lambda x: len(x.text), \n",
    "    device=device)\n",
    "\n",
    "valid_iterator = data.BucketIterator(\n",
    "    valid_data, \n",
    "    batch_size, \n",
    "    sort_key=lambda x: len(x.text), \n",
    "    device=device,\n",
    "    train=False,\n",
    "    shuffle=False)"
   ]
  },
  {
   "cell_type": "markdown",
   "id": "eed5be4a",
   "metadata": {},
   "source": [
    "## Build Model"
   ]
  },
  {
   "cell_type": "code",
   "execution_count": 16,
   "id": "445d8f86",
   "metadata": {},
   "outputs": [],
   "source": [
    "config = RCNNConfig()\n",
    "\n",
    "model = RCNN(config, vocab_size=len(TEXT.vocab))\n",
    "model = model.to(device)\n",
    "\n",
    "optimizer = optim.Adam(model.parameters())\n",
    "scheduler = optim.lr_scheduler.StepLR(optimizer, step_size=1, gamma=0.5)\n",
    "criterion = nn.CrossEntropyLoss().to(device)"
   ]
  },
  {
   "cell_type": "markdown",
   "id": "849e5a26",
   "metadata": {},
   "source": [
    "## Train the model"
   ]
  },
  {
   "cell_type": "code",
   "execution_count": 17,
   "id": "af18c61a",
   "metadata": {},
   "outputs": [],
   "source": [
    "model_dir = 'models'\n",
    "if not os.path.exists(model_dir):\n",
    "    os.mkdir(model_dir)\n",
    "    \n",
    "fname = f'{model_dir}/rcnn.pt'  # save the trained model"
   ]
  },
  {
   "cell_type": "code",
   "execution_count": 18,
   "id": "3212caa5",
   "metadata": {},
   "outputs": [
    {
     "data": {
      "text/html": [
       "<div>\n",
       "<style scoped>\n",
       "    .dataframe tbody tr th:only-of-type {\n",
       "        vertical-align: middle;\n",
       "    }\n",
       "\n",
       "    .dataframe tbody tr th {\n",
       "        vertical-align: top;\n",
       "    }\n",
       "\n",
       "    .dataframe thead th {\n",
       "        text-align: right;\n",
       "    }\n",
       "</style>\n",
       "<table border=\"1\" class=\"dataframe\">\n",
       "  <thead>\n",
       "    <tr style=\"text-align: right;\">\n",
       "      <th></th>\n",
       "      <th>Epoch</th>\n",
       "      <th>Train Loss</th>\n",
       "      <th>Valid Loss</th>\n",
       "      <th>Train Acc</th>\n",
       "      <th>Valid Acc</th>\n",
       "      <th>Time</th>\n",
       "    </tr>\n",
       "  </thead>\n",
       "  <tbody>\n",
       "    <tr>\n",
       "      <th>0</th>\n",
       "      <td>1</td>\n",
       "      <td>0.201</td>\n",
       "      <td>0.180</td>\n",
       "      <td>92.66</td>\n",
       "      <td>92.68</td>\n",
       "      <td>0m 8s</td>\n",
       "    </tr>\n",
       "    <tr>\n",
       "      <th>1</th>\n",
       "      <td>2</td>\n",
       "      <td>0.063</td>\n",
       "      <td>0.156</td>\n",
       "      <td>98.25</td>\n",
       "      <td>95.18</td>\n",
       "      <td>0m 8s</td>\n",
       "    </tr>\n",
       "    <tr>\n",
       "      <th>2</th>\n",
       "      <td>3</td>\n",
       "      <td>0.038</td>\n",
       "      <td>0.166</td>\n",
       "      <td>99.22</td>\n",
       "      <td>94.64</td>\n",
       "      <td>0m 8s</td>\n",
       "    </tr>\n",
       "    <tr>\n",
       "      <th>3</th>\n",
       "      <td>4</td>\n",
       "      <td>0.027</td>\n",
       "      <td>0.146</td>\n",
       "      <td>99.40</td>\n",
       "      <td>96.07</td>\n",
       "      <td>0m 8s</td>\n",
       "    </tr>\n",
       "    <tr>\n",
       "      <th>4</th>\n",
       "      <td>5</td>\n",
       "      <td>0.026</td>\n",
       "      <td>0.143</td>\n",
       "      <td>99.48</td>\n",
       "      <td>96.61</td>\n",
       "      <td>0m 8s</td>\n",
       "    </tr>\n",
       "  </tbody>\n",
       "</table>\n",
       "</div>"
      ],
      "text/plain": [
       "  Epoch Train Loss Valid Loss Train Acc Valid Acc   Time\n",
       "0     1      0.201      0.180     92.66     92.68  0m 8s\n",
       "1     2      0.063      0.156     98.25     95.18  0m 8s\n",
       "2     3      0.038      0.166     99.22     94.64  0m 8s\n",
       "3     4      0.027      0.146     99.40     96.07  0m 8s\n",
       "4     5      0.026      0.143     99.48     96.61  0m 8s"
      ]
     },
     "metadata": {},
     "output_type": "display_data"
    }
   ],
   "source": [
    "# train the model\n",
    "train_model(model, device, \n",
    "            train_iterator, valid_iterator, \n",
    "            optimizer, criterion, scheduler, \n",
    "            n_epochs=5, \n",
    "            fname=fname)"
   ]
  },
  {
   "cell_type": "code",
   "execution_count": 19,
   "id": "a551a326",
   "metadata": {},
   "outputs": [
    {
     "name": "stderr",
     "output_type": "stream",
     "text": [
      "Validation: | Loss=0.0007 | Acc=1.0000 |: 100%|██████████| 70/70 [00:00<00:00, 247.04it/s]"
     ]
    },
    {
     "name": "stdout",
     "output_type": "stream",
     "text": [
      "Validation loss = 0.1431 | validation acc = 96.61%\n"
     ]
    },
    {
     "name": "stderr",
     "output_type": "stream",
     "text": [
      "\n"
     ]
    }
   ],
   "source": [
    "loss, acc = evaluate(model, valid_iterator, criterion)\n",
    "print(f'Validation loss = {loss:.4f} | validation acc = {acc*100:.2f}%')"
   ]
  },
  {
   "cell_type": "markdown",
   "id": "f0b8a5f4",
   "metadata": {},
   "source": [
    "### Testing model on user inputs"
   ]
  },
  {
   "cell_type": "code",
   "execution_count": 20,
   "id": "cbf592fd",
   "metadata": {},
   "outputs": [],
   "source": [
    "nlp = spacy.load(\"en_core_web_sm\")\n",
    "\n",
    "\n",
    "def predict(model, sentence, device=device):\n",
    "    model.eval()\n",
    "    \n",
    "    # tokenize\n",
    "    tokens = [t.text for t in nlp(sentence)]\n",
    "    \n",
    "    # numericalize\n",
    "    indexed = [TEXT.vocab.stoi[t] for t in tokens]\n",
    "    \n",
    "    # convert to torch tensor and add batch dimension\n",
    "    indexed = torch.LongTensor(indexed).unsqueeze(1).to(device)\n",
    "    \n",
    "    # predict the label\n",
    "    prediction = model(indexed)\n",
    "    \n",
    "    return LABEL.vocab.itos[prediction.argmax(1).item()]\n",
    "    "
   ]
  },
  {
   "cell_type": "code",
   "execution_count": 21,
   "id": "42d0b716",
   "metadata": {},
   "outputs": [
    {
     "name": "stdout",
     "output_type": "stream",
     "text": [
      "ham     \u001b[41mAre you ready for the tea party????? It's gonna be wild\u001b[m\n",
      "spam    \u001b[43mURGENT Reply to this message for GUARANTEED FREE TEA\u001b[m\n"
     ]
    }
   ],
   "source": [
    "docs = [\"Are you ready for the tea party????? It's gonna be wild\",\n",
    "        \"URGENT Reply to this message for GUARANTEED FREE TEA\"]\n",
    "\n",
    "\n",
    "for doc in docs:\n",
    "    label = predict(model, doc)\n",
    "    display_classification_result(doc, label, LABEL.vocab.stoi[label])"
   ]
  },
  {
   "cell_type": "markdown",
   "id": "52ea678b",
   "metadata": {},
   "source": [
    "### Confusion matrix"
   ]
  },
  {
   "cell_type": "code",
   "execution_count": 22,
   "id": "074ccd54",
   "metadata": {},
   "outputs": [
    {
     "data": {
      "image/png": "[encoded data removed]",
      "text/plain": [
       "<Figure size 720x504 with 2 Axes>"
      ]
     },
     "metadata": {
      "needs_background": "light"
     },
     "output_type": "display_data"
    }
   ],
   "source": [
    "cm, y_true, y_pred = compute_confusion_matrix(model, valid_iterator)\n",
    "plot_confusion_matrix(cm, LABEL.vocab.stoi)"
   ]
  },
  {
   "cell_type": "code",
   "execution_count": 23,
   "id": "aab7f5ef",
   "metadata": {},
   "outputs": [
    {
     "name": "stdout",
     "output_type": "stream",
     "text": [
      "              precision    recall  f1-score   support\n",
      "\n",
      "         ham       0.99      0.97      0.98       490\n",
      "        spam       0.80      0.96      0.87        68\n",
      "\n",
      "    accuracy                           0.97       558\n",
      "   macro avg       0.90      0.96      0.93       558\n",
      "weighted avg       0.97      0.97      0.97       558\n",
      "\n"
     ]
    }
   ],
   "source": [
    "print(classification_report(y_true, y_pred, target_names=LABEL.vocab.stoi.keys()))"
   ]
  }
 ],
 "metadata": {
  "interpreter": {
   "hash": "65b81fbd63366e604cafa79c4ba0e7c0bd120121e688a1f8a1a449370a5a5c1f"
  },
  "kernelspec": {
   "display_name": "Python 3",
   "language": "python",
   "name": "python3"
  },
  "language_info": {
   "codemirror_mode": {
    "name": "ipython",
    "version": 3
   },
   "file_extension": ".py",
   "mimetype": "text/x-python",
   "name": "python",
   "nbconvert_exporter": "python",
   "pygments_lexer": "ipython3",
   "version": "3.6.10"
  }
 },
 "nbformat": 4,
 "nbformat_minor": 5
}
